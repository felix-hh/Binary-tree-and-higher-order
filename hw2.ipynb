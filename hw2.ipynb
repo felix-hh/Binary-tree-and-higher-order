{
  "nbformat": 4,
  "nbformat_minor": 0,
  "metadata": {
    "colab": {
      "provenance": []
    },
    "kernelspec": {
      "name": "python3",
      "display_name": "Python 3"
    },
    "language_info": {
      "name": "python"
    },
    "accelerator": "GPU",
    "gpuClass": "standard"
  },
  "cells": [
    {
      "cell_type": "markdown",
      "source": [
        "# Homework 2\n",
        "\n",
        "This assignment is due Friday, February 24 at 11:59pm Central Time. \n",
        "\n",
        "This assignment can be completed in **groups of two**. If you need to find a partner, please post in the pinned note on Piazza.\n",
        "\n",
        "Once you have formed your groups, the work you submit must belong only to your group members. Do not submit another team's work as your own, and do not allow another team to submit your work as their own. If you use resources you find online, you must cite those in your notebook.\n",
        "\n",
        "To submit this assignment, you should commit to your GitHub account:\n",
        "\n",
        "* your Net ID(s) in the netid file; one per line. Please do not put your name in your notebook; we will grade these anonymously.\n",
        "\n",
        "* a hw2.pdf printout of the completed notebook that shows all your answers.\n",
        "\n",
        "* your final hw2.ipynb notebook with outputs saved. If we run your notebook from scratch, it should produce an output identical to your PDF. You can edit your notebook however you want (on Colab, on your local machine, somewhere else); just upload the latest version of it to GitHub.\n",
        "\n",
        "Your GitHub account must submit contain all three of these, or you will lose points. We will not accept late work except in extreme settings."
      ],
      "metadata": {
        "id": "YXVZmY8ilriC"
      }
    },
    {
      "cell_type": "code",
      "execution_count": null,
      "metadata": {
        "colab": {
          "base_uri": "https://localhost:8080/"
        },
        "id": "kmmalHu_lq13",
        "outputId": "516b5fed-ac8c-46b9-fe1b-9c5f15353060"
      },
      "outputs": [
        {
          "output_type": "stream",
          "name": "stdout",
          "text": [
            "fatal: destination path 'cs449w23' already exists and is not an empty directory.\n",
            "/content/cs449w23\n"
          ]
        }
      ],
      "source": [
        "# If using local runtime\n",
        "# base_dir = \"~/Documents\"\n",
        "# If using hosted runtime\n",
        "base_dir = \"/content\"\n",
        "\n",
        "# helper code from the course repository\n",
        "!cd $base_dir && git clone -q https://github.com/zachwooddoughty/cs449w23.git\n",
        "# install common pacakges used for deep learning\n",
        "!cd $base_dir/cs449w23/ && pip install -q -r requirements.txt\n",
        "\n",
        "# make sure we're in the right directory\n",
        "%cd $base_dir/cs449w23/\n",
        "!git pull -q origin main"
      ]
    },
    {
      "cell_type": "code",
      "source": [
        "%matplotlib inline\n",
        "\n",
        "import datetime\n",
        "import math\n",
        "import torch\n",
        "import matplotlib.pyplot as plt\n",
        "import numpy as np\n",
        "import IPython.display as ipd\n",
        "from matplotlib.animation import FuncAnimation\n",
        "from pathlib import Path\n",
        "from torch.utils.tensorboard import SummaryWriter\n",
        "from torchsummary import summary\n",
        "from tqdm import tqdm\n",
        "\n",
        "from utils.gan import *"
      ],
      "metadata": {
        "id": "EVNH8KF1isWi"
      },
      "execution_count": null,
      "outputs": []
    },
    {
      "cell_type": "markdown",
      "source": [
        "## GANs and Autoencoders\n",
        "\n",
        "This homework assignment builds off the GAN notebook and the Autoencoder notebook that we saw in class. You may copy any code from those notebooks into your code.\n",
        "\n",
        "For this assignment, you will combine the models introduced in those two notebooks to create a combined Autoencoder + GAN model. In particular, that will look something like this:\n",
        "\n",
        "![Diagram of model architecture](https://github.com/zachwooddoughty/cs449w23/raw/main/static/hw2_fig.png)\n",
        "\n",
        "We're giving you the defined models below and the skeleton of the training code, and you just need to define the optimizers and write the loss functions to allow these models to train together.\n",
        "\n",
        "If we write this in a functional representation, then the encoder $E(X)$ takes in a real image and outputs a $z$ vector, $G(z)$ takes in a $z$ vecotr and outputs an image $\\tilde X$, and $D(X)$ takes in an image and outputs a scalar probability.\n",
        "\n",
        "The autoencoder loss will be MSELoss comparing $X$ and $\\tilde X$ and the generator and discriminator will be otherwise the same as in a GAN. However, the tricky component is to get the model to train and reduce all three losses simultaneously."
      ],
      "metadata": {
        "id": "OM2yMtIH0OWe"
      }
    },
    {
      "cell_type": "code",
      "source": [
        "# fix random seed\n",
        "torch.manual_seed(0)\n",
        "\n",
        "class MLPGenerator(torch.nn.Module):\n",
        "    \n",
        "    def __init__(self, \n",
        "                 number_of_hidden_layers: int, \n",
        "                 input_size: int, \n",
        "                 hidden_size: int, \n",
        "                 output_size: int,\n",
        "                 activation: torch.nn.Module):\n",
        "        \"\"\"Construct a simple MLP generator\"\"\"\n",
        "        \n",
        "        super().__init__()\n",
        "        \n",
        "        assert number_of_hidden_layers >= 0, \"Generator number_of_hidden_layers must be at least 0\"\n",
        "        \n",
        "        dims_in = [input_size] + [hidden_size] * number_of_hidden_layers\n",
        "        dims_out = [hidden_size] * number_of_hidden_layers + [output_size] # final output should be the size of a true example\n",
        "        layers = []\n",
        "        for i in range(number_of_hidden_layers + 1):\n",
        "            layers.append(torch.nn.Linear(dims_in[i], dims_out[i]))\n",
        "            \n",
        "            if i < number_of_hidden_layers:\n",
        "                layers.append(activation)\n",
        "        \n",
        "        # apply Sigmoid after final layer to constrain generated images to [0, 1]\n",
        "        layers.append(torch.nn.Sigmoid())\n",
        "        \n",
        "        self.net = torch.nn.Sequential(*layers)\n",
        "    \n",
        "    def forward(self, x: torch.Tensor):\n",
        "        return self.net(x)\n",
        "\n",
        "class MLPDiscriminator(torch.nn.Module):\n",
        "    \n",
        "    def __init__(self, \n",
        "                 number_of_hidden_layers: int, \n",
        "                 input_size: int, \n",
        "                 hidden_size: int, \n",
        "                 activation: torch.nn.Module):\n",
        "        \"\"\"Construct a simple MLP discriminator\"\"\"\n",
        "        \n",
        "        super().__init__()\n",
        "        \n",
        "        msg = \"Discriminator number_of_hidden_layers must be at least 0\"\n",
        "        assert number_of_hidden_layers >= 0, msg\n",
        "        \n",
        "        # final output dimension is scalar (probability image is real)\n",
        "        dims_in = [input_size] + [hidden_size] * number_of_hidden_layers\n",
        "        dims_out = [hidden_size] * number_of_hidden_layers + [1]\n",
        "        \n",
        "        layers = []\n",
        "        for i in range(number_of_hidden_layers + 1):\n",
        "            layers.append(torch.nn.Linear(dims_in[i], dims_out[i]))\n",
        "            \n",
        "            if i < number_of_hidden_layers:\n",
        "                layers.append(activation)\n",
        "        \n",
        "        # apply sigmoid after final layer to represent probability\n",
        "        layers.append(torch.nn.Sigmoid())\n",
        "        \n",
        "        self.net = torch.nn.Sequential(*layers)\n",
        "    \n",
        "    def forward(self, x: torch.Tensor):\n",
        "        return self.net(x)\n",
        "\n",
        "class MLPEncoder(torch.nn.Module):\n",
        "    \n",
        "    def __init__(self, \n",
        "                 number_of_hidden_layers: int, \n",
        "                 input_size: int, \n",
        "                 hidden_size: int, \n",
        "                 latent_size: int,\n",
        "                 activation: torch.nn.Module):\n",
        "        \"\"\"Construct a simple MLP encoder\"\"\"\n",
        "        \n",
        "        super().__init__()\n",
        "        \n",
        "        assert number_of_hidden_layers >= 0, \"Encoder number_of_hidden_layers must be at least 0\"\n",
        "        \n",
        "        dims_in = [input_size] + [hidden_size] * number_of_hidden_layers\n",
        "        dims_out = [hidden_size] * number_of_hidden_layers + [latent_size]  # final output should be latent size\n",
        "        layers = []\n",
        "        for i in range(number_of_hidden_layers + 1):\n",
        "            layers.append(torch.nn.Linear(dims_in[i], dims_out[i]))\n",
        "            \n",
        "            if i < number_of_hidden_layers:\n",
        "                layers.append(activation)\n",
        "\n",
        "        self.net = torch.nn.Sequential(*layers)\n",
        "    \n",
        "    def forward(self, x: torch.Tensor):\n",
        "        return self.net(x)\n",
        "\n",
        "\n",
        "class Model(torch.nn.Module):\n",
        "    def __init__(self,\n",
        "                 number_of_hidden_layers: int, \n",
        "                 latent_size: int, \n",
        "                 hidden_size: int, \n",
        "                 output_size: int,\n",
        "                 activation_generator: torch.nn.Module = torch.nn.ReLU(),\n",
        "                 activation_discriminator: torch.nn.Module = torch.nn.LeakyReLU(0.2)\n",
        "                ):\n",
        "        \n",
        "        super().__init__()\n",
        "\n",
        "        self.encoder = MLPEncoder(\n",
        "            number_of_hidden_layers=number_of_hidden_layers, \n",
        "            input_size=output_size, \n",
        "            hidden_size=hidden_size, \n",
        "            latent_size=latent_size,\n",
        "            activation=activation_generator,\n",
        "        )\n",
        "                          \n",
        "        self.generator = MLPGenerator(\n",
        "            number_of_hidden_layers=number_of_hidden_layers, \n",
        "            input_size=latent_size, \n",
        "            hidden_size=hidden_size, \n",
        "            output_size=output_size,\n",
        "            activation=activation_generator\n",
        "        )\n",
        "        \n",
        "        self.discriminator = MLPDiscriminator(\n",
        "            number_of_hidden_layers=number_of_hidden_layers, \n",
        "            input_size=output_size, \n",
        "            hidden_size=hidden_size,\n",
        "            activation=activation_discriminator\n",
        "        )   "
      ],
      "metadata": {
        "id": "d_EPvBVEkuZX"
      },
      "execution_count": null,
      "outputs": []
    },
    {
      "cell_type": "code",
      "source": [
        "# training hyperparameters\n",
        "image_size = 28\n",
        "batch_size = 64\n",
        "latent_size = 64\n",
        "hidden_size = 256\n",
        "number_of_hidden_layers = 2\n",
        "lr = 0.0002 #NS: changing from 0.00002 to 0.0002 based on piazza post discussion.\n",
        "epochs = 60\n",
        "\n",
        "# select device\n",
        "device = torch.device(\"cuda\" if torch.cuda.is_available() else \"cpu\")\n",
        "\n",
        "# load MNIST dataset\n",
        "mnist = load_mnist(batch_size=batch_size)\n",
        "\n",
        "# initialize the model\n",
        "model = Model(\n",
        "    number_of_hidden_layers=number_of_hidden_layers, \n",
        "    latent_size=latent_size, \n",
        "    hidden_size=hidden_size, \n",
        "    output_size=image_size*image_size, \n",
        ").to(device)\n",
        "\n",
        "#NS EDIT: trying to use the optimizers from the class notebooks, one for each sub-part rather than just an optimizer for Model as a whole. can try the latter also as part of experimentation\n",
        "opt_discriminator = torch.optim.Adam(model.discriminator.parameters(), lr=lr)\n",
        "opt_generator = torch.optim.Adam(model.generator.parameters(), lr=lr)\n",
        "opt_encoder = torch.optim.Adam(model.encoder.parameters(), lr=lr)\n",
        "\n",
        "# discriminator loss function: binary cross-entropy loss\n",
        "discrim_loss_func = torch.nn.BCELoss()\n",
        "# autoencoder loss function: mean squared error between original and new image\n",
        "autoencoder_loss_func = torch.nn.MSELoss()\n",
        "\n",
        "# determine which labels will correspond to \"real\" and \"fake\" predictions from the discriminator\n",
        "label_real = 1.0\n",
        "label_fake = 0.0\n",
        "\n",
        "# select a fixed set of latent vectors z that we will use to visualize the GAN's generation quality each epoch\n",
        "fixed_latents = torch.randn((batch_size, latent_size)).to(device)"
      ],
      "metadata": {
        "id": "oYmhDlK_lWQA"
      },
      "execution_count": null,
      "outputs": []
    },
    {
      "cell_type": "markdown",
      "source": [
        "## Coding (7 points)\n",
        "\n",
        "To get this code to run, you need to do two things.\n",
        "\n",
        "* First, instantiate the optimizer(s) you will use to update your model parameters. Remember that you will need to update parameters in `model.encoder`, `model.generator`, and `model.discriminator`. One decision you have to make is how many optimizers you want to use.\n",
        "\n",
        "* Write the training code below to compute the loss terms for each part of your model: `loss_discriminator`, `loss_generator`, and `loss_autoencoder`. As in the VAE notebook, you may want to consider weighting these losses differently.\n",
        "\n",
        "For full points, we must be able to run your notebook as is and reproduce (almost) exactly the same results."
      ],
      "metadata": {
        "id": "e5Q1xvO2Rwi6"
      }
    },
    {
      "cell_type": "code",
      "source": [
        "\n",
        "# log metrics\n",
        "loss_d = np.zeros(epochs)\n",
        "loss_g = np.zeros(epochs)\n",
        "loss_ae = np.zeros(epochs)\n",
        "\n",
        "for epoch in range(epochs):\n",
        "    total_epoch_size = 0\n",
        "\n",
        "    # Zero out grads at beginning of epoch\n",
        "    model.encoder.zero_grad()\n",
        "    model.discriminator.zero_grad()\n",
        "    model.generator.zero_grad()\n",
        "\n",
        "    for batch_idx, batch_data in enumerate(mnist):\n",
        "\n",
        "        x_real, y_real = batch_data\n",
        "        \n",
        "        # flatten input images and move to device\n",
        "        x_real = x_real.to(device)\n",
        "        n_batch = x_real.shape[0]\n",
        "        x_real = x_real.reshape(n_batch, -1)\n",
        "\n",
        "        # TODO: write your training code here to compute loss functions\n",
        "        #   for each model section\n",
        "\n",
        "        # NS: DISCRIMINATOR LOSS, d is trying to maximize objective log(D(x)) + log(1 - D(G(z))) #\n",
        "        model.discriminator.zero_grad() \n",
        "        #train on real inputs\n",
        "        y_real = torch.full((n_batch, 1), label_real, device=device)\n",
        "        preds_real = model.discriminator(x_real)\n",
        "        loss_real = discrim_loss_func(preds_real, y_real)\n",
        "        # train on a batch of synthesized inputs\n",
        "        z = torch.randn(n_batch, latent_size).to(device)\n",
        "        x_fake = model.generator(z)\n",
        "        y_fake = torch.full((n_batch, 1), label_fake, device=device)\n",
        "        preds_fake = model.discriminator(x_fake.detach())  # exclude generator from gradient computation\n",
        "        loss_fake = discrim_loss_func(preds_fake, y_fake)\n",
        "        # update discriminator weights\n",
        "        loss_discriminator = loss_real + loss_fake\n",
        "        loss_discriminator.backward()\n",
        "        opt_discriminator.step()\n",
        "\n",
        "        # NS: GENERATOR LOSS, d is minimizing log(1 - D(G(z))) #\n",
        "        model.generator.zero_grad()\n",
        "        # train on a batch of synthesized inputs\n",
        "        z = torch.randn(n_batch, latent_size).to(device)\n",
        "        x_fake = model.generator(z)\n",
        "        y_real = torch.full((n_batch, 1), label_real, device=device)\n",
        "        preds_fake = model.discriminator(x_fake)\n",
        "        loss_generator = discrim_loss_func(preds_fake, y_real)\n",
        "        loss_generator.backward()\n",
        "        # update generator weights\n",
        "        opt_generator.step()\n",
        "\n",
        "        # NS: AUTOENCODER #\n",
        "        model.encoder.zero_grad()\n",
        "        model.generator.zero_grad()\n",
        "        z = model.encoder(x_real)\n",
        "        x_fake = model.generator(z)\n",
        "        loss_autoencoder = autoencoder_loss_func(x_real, x_fake) #NS: autoencoder loss is MSE of x (input to encoder) compared to x* (output of generator)\n",
        "        loss_autoencoder.backward()\n",
        "        opt_encoder.step()\n",
        "        # update generator weights\n",
        "        opt_generator.step()\n",
        "        \n",
        "        \n",
        "        # log losses and scores\n",
        "        loss_d[epoch] += loss_discriminator.detach().item() * n_batch\n",
        "        loss_g[epoch] += loss_generator.detach().item() * n_batch\n",
        "        loss_ae[epoch] += loss_autoencoder.detach().item() * n_batch\n",
        "        total_epoch_size += n_batch\n",
        "\n",
        "      \n",
        "\n",
        "    loss_d[epoch] /= total_epoch_size\n",
        "    loss_g[epoch] /= total_epoch_size\n",
        "    loss_ae[epoch] /= total_epoch_size\n",
        "\n",
        "    if epoch == 0 or (epoch + 1) % max(1, epochs // 10) == 0:\n",
        "        total = loss_ae[epoch] + loss_g[epoch] + loss_d[epoch]\n",
        "        log = \"  \".join([\n",
        "            f\"Epoch: {epoch + 1:4d}\",\n",
        "            f\"AE Loss: {loss_ae[epoch]:8.3f}\",\n",
        "            f\"Gen Loss: {loss_g[epoch]:8.3f}\",\n",
        "            f\"Dis Loss: {loss_d[epoch]:8.3f}\",\n",
        "            f\"Total: {total:8.1f}\",\n",
        "        ])\n",
        "        print(log)"
      ],
      "metadata": {
        "colab": {
          "base_uri": "https://localhost:8080/"
        },
        "id": "OfyAKlI1l4UD",
        "outputId": "fe7d444d-ef1e-40d3-fd55-b1a9c9144aca"
      },
      "execution_count": null,
      "outputs": [
        {
          "output_type": "stream",
          "name": "stdout",
          "text": [
            "Epoch:    1  AE Loss:    0.121  Gen Loss:    3.147  Dis Loss:    0.540  Total:      3.8\n",
            "Epoch:    6  AE Loss:    0.070  Gen Loss:    6.369  Dis Loss:    0.122  Total:      6.6\n",
            "Epoch:   12  AE Loss:    0.053  Gen Loss:    3.573  Dis Loss:    0.452  Total:      4.1\n",
            "Epoch:   18  AE Loss:    0.037  Gen Loss:    1.669  Dis Loss:    0.873  Total:      2.6\n",
            "Epoch:   24  AE Loss:    0.029  Gen Loss:    1.291  Dis Loss:    1.063  Total:      2.4\n",
            "Epoch:   30  AE Loss:    0.024  Gen Loss:    1.195  Dis Loss:    1.074  Total:      2.3\n",
            "Epoch:   36  AE Loss:    0.021  Gen Loss:    1.169  Dis Loss:    1.085  Total:      2.3\n",
            "Epoch:   42  AE Loss:    0.019  Gen Loss:    1.192  Dis Loss:    1.061  Total:      2.3\n",
            "Epoch:   48  AE Loss:    0.017  Gen Loss:    1.219  Dis Loss:    1.040  Total:      2.3\n",
            "Epoch:   54  AE Loss:    0.017  Gen Loss:    1.268  Dis Loss:    1.016  Total:      2.3\n",
            "Epoch:   60  AE Loss:    0.016  Gen Loss:    1.311  Dis Loss:    1.004  Total:      2.3\n"
          ]
        }
      ]
    },
    {
      "cell_type": "markdown",
      "source": [
        "Once you've trained your model, use the next two cells to sample some images from your generator."
      ],
      "metadata": {
        "id": "_81rHjXK2l1N"
      }
    },
    {
      "cell_type": "code",
      "source": [
        "nrows, ncols = (3, 3)\n",
        "fig, axes = plt.subplots(nrows=nrows, ncols=ncols, figsize=(3 * nrows, 3 * ncols))\n",
        "\n",
        "for row in range(nrows):\n",
        "    for col in range(ncols):\n",
        "        z = torch.randn(1, latent_size).to(device)\n",
        "        output = model.generator(z).reshape(image_size, image_size).detach().cpu()\n",
        "        axes[row, col].imshow(output.squeeze(), cmap='gray')\n",
        "        axes[row, col].axis('off')\n",
        "\n",
        "plt.show()"
      ],
      "metadata": {
        "id": "AScgZZX8szjq",
        "colab": {
          "base_uri": "https://localhost:8080/",
          "height": 520
        },
        "outputId": "d3a4c0de-cf81-40c7-aabb-ee842ca78486"
      },
      "execution_count": null,
      "outputs": [
        {
          "output_type": "display_data",
          "data": {
            "text/plain": [
              "<Figure size 648x648 with 9 Axes>"
            ],
            "image/png": "[encoded data removed]"
          },
          "metadata": {
            "needs_background": "light"
          }
        }
      ]
    },
    {
      "cell_type": "code",
      "source": [
        "example_batch = next(iter(mnist))[0].to(device)\n",
        "fig, axes = plt.subplots(nrows=2, ncols=3, figsize=(8, 6))\n",
        "\n",
        "indices = np.argsort(np.random.rand(example_batch.shape[0]))[:3]\n",
        "\n",
        "for col, index in enumerate(indices):\n",
        "\n",
        "    example_image = example_batch[index].cpu()\n",
        "    axes[0, col].imshow(example_image.squeeze(), cmap='gray')\n",
        "    axes[0, col].set_title(\"Original Image\")\n",
        "    axes[0, col].axis('off')\n",
        "\n",
        "    image_input = example_image.flatten().unsqueeze(0).to(device)\n",
        "    recons_img = model.generator(model.encoder(image_input))\n",
        "    recons_img = recons_img.reshape(1, image_size, image_size).detach().cpu()\n",
        "    axes[1, col].imshow(recons_img.squeeze(), cmap='gray')\n",
        "    axes[1, col].set_title(\"Reconstructed Image\")\n",
        "    axes[1, col].axis('off')\n",
        "\n",
        "plt.show()"
      ],
      "metadata": {
        "id": "MRQy5q1btCk4",
        "colab": {
          "base_uri": "https://localhost:8080/",
          "height": 356
        },
        "outputId": "abb21ecc-45d1-4fc1-ddbe-da8d92bacde1"
      },
      "execution_count": null,
      "outputs": [
        {
          "output_type": "display_data",
          "data": {
            "text/plain": [
              "<Figure size 576x432 with 6 Axes>"
            ],
            "image/png": "[encoded data removed]"
          },
          "metadata": {
            "needs_background": "light"
          }
        }
      ]
    },
    {
      "cell_type": "markdown",
      "source": [
        "## Coding explanation (6 points)\n",
        "\n",
        "### 1. What did you do? (4 points)\n",
        "\n",
        "Describe your approach in your code above; what choices did you make and why?\n",
        "\n",
        "If you weren't able to get the model to train, you can still earn these points by describing what you tried and what didn't seem to work.\n",
        "\n",
        "Dataset: We use the MNIST dataset as ground truth data for our autoencoder and as real inputs to our discriminator. We do not make any preprocessing of the data.\n",
        "\n",
        "Hyperparameters: We have increased the learning rate originally provided by the homework because we observed that we could see better improvements on the training loss. We tried increasing the batch size to 256 and 128 but obtained worse results.\n",
        "\n",
        "Architecture: We kept the original hidden size and number of layers.\n",
        "\n",
        "Optimizers: We decided to use separate optimizers with the same configuration for each of the 3 components, as opposed to use only one for the whole model to prevent backpropagation from interfering with other models. This simplifies the training process as backpropagation happens in each model independently and enables us to be able to configure hyperparameters separately if needed.\n",
        "In the training loop, we use the autoencoder and gan notebooks form class as reference. To train the discriminator, we use BCE loss on predicted fake or real labels from real images and images the generator produced from a random latent space. To train the generator, we use BCE loss on the label produced by the discriminator on the images that it generates from a random latent space - note that this loss is the opposite of the discriminator loss for generated images. To train the autoencoder, we use real images to produce latent representations and then use those latent representations to generate images that resemble the originals, using MSE as our loss metric (note that the generator weights are also updated during this process). \n",
        "\n",
        "### 2. Discuss your results (2 points)\n",
        "\n",
        "If you were able to get your model to train, what did you notice about the trends in the three different loss values? How do your generated images in the previous cells look similar to or different from the images we saw in the GAN or Autoencoder notebooks?\n",
        "\n",
        "We see that the autoencoder loss decreases monotonically whereas the discriminator and the generator oscillate between increasing and decreasing their respective loss. The total loss tends to decrease. The generated digits look quite similar from the digits that we produced in the other notebooks, although the reconstructions produced by our autoencoder are not as close to the original as in the autoencoder notebook. This could be because our models are optimizing for more than one task at once. \n"
      ],
      "metadata": {
        "id": "QsPCyEjztSLl"
      }
    },
    {
      "cell_type": "markdown",
      "source": [
        "## Conceptual questions (7 points)\n",
        "\n",
        "### 1. Mode collapse (2 points)\n",
        "\n",
        "Look back at the slides, notebook, and/or readings around mode collapse in GANs.\n",
        "* First, give a one or two sentence definition of what mode collapse is, in your own words.\n",
        "* Second, explain why mode collapse is *more* or *less* likely in the above model that incorporates an autoencoder into the GAN. Write at least two sentences.\n",
        "\n",
        "*Mode collapse occurs when the generator produces identical (or near-identical) output regardless of input. It generally happens when the discriminator gets too powerful (is easily able to distinguish between real and fake images) so the generator resorts to only generating a small set of identical samples that can consistently fool the discriminator rather than generating diverse images (which is what we want).*\n",
        "\n",
        "*Mode collapse is actually **less** likely to happen in a model with a GAN+encoder. The encoder, if trained well, learns latent representations in such a way that preserves the diversity of the training set (in a way that just sampling random noise, as would be the case without an enocder) would not. Thus the generator is less likely to suffer mode collapse due the representations learned by the encoder.*\n",
        "\n",
        "\n",
        "\n",
        "### 2. Loss functions (3 points)\n",
        "\n",
        "In the above model that you trained, there are different loss functions for the autoencoder, generator, and discriminator. For each pair of losses, describe whether and how the two losses are in conflict. That is, when training your model, does reducing loss #1 tend to increase loss #2? Why or why not?\n",
        "\n",
        "* a. Generator loss and discriminator loss\n",
        "* b. Generator loss and autoencoder loss\n",
        "* c. Discriminator loss and autoencoder loss\n",
        "\n",
        "\n",
        "a) The generator and the discriminator loss are in conflict - the generator decreases it's loss when it fools the discriminator, and the discriminator's loss decreases when it is not fooled. Reducing the generator's loss means producing more realistic images from hidden spaces, which means that the discriminator will be fooled more often increasing it’s loss. Similarly, as the discriminator reduces it’s loss by classifying the generator’s images as fake, the generator’s loss will increase. \n",
        "\n",
        "\n",
        "b) The generator and autoencoder loss are sometimes in conflict. Both the generator and the autoencoder loss decrease as the generator learns to generate numbers instead of noise. However, the generator may overfit on one of the tasks - for example it can learn to generate images that fool the discriminator, rotating over a few output images at the expense of not being able to reproduce the details of the original image on an autoencoding task. This is related to the concept of mode collapse in the first question. \n",
        "\n",
        "\n",
        "c) The discriminator and autoencoder loss are sometimes in conflict. These losses don’t seem to share share much commonality in the pieces of the architecture they affect. However it is possible that decreasing the autoencoder loss will lead to a higher discriminator loss as the generator component learns to produce better numbers.\n",
        "\n",
        "### 3. Class conditioning (2 points)\n",
        "\n",
        "Suppose you wanted to add in class-conditioning to [the generator and discriminator](https://arxiv.org/pdf/1411.1784.pdf) and [the autoencoder](https://proceedings.neurips.cc/paper/2015/file/8d55a249e6baa5c06772297520da2051-Paper.pdf) in your model. How and why would this change your loss function(s)?\n",
        "\n",
        "*Adding class-conditioning to the generator and discriminator would not change the loss function very much: instead of log(D(x)) and log(1-D(G(z))), we would condition the input x and the latent space z on the class y, getting log(D(x|y) and log(1-D(G(z|y)).*\n",
        "\n",
        "*For class-conditioned autoencoders (like the CVAEs in the paper), the loss function changes in a similar way. We've seen how the loss function for an AE can be represented in log terms. Instead of the log-likelihood, we are now trying to maximize the conditional log-likelihood.*\n"
      ],
      "metadata": {
        "id": "_7SU0EE17qLI"
      }
    },
    {
      "cell_type": "code",
      "source": [],
      "metadata": {
        "id": "G-EEvPqQR-gX"
      },
      "execution_count": null,
      "outputs": []
    }
  ]
}