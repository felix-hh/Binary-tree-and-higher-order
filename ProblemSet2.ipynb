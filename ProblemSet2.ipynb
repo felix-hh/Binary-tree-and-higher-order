{
 "cells": [
  {
   "cell_type": "markdown",
   "id": "7c33edb5",
   "metadata": {},
   "source": [
    "# Problem Set 2\n",
    "\n",
    "### ASTRON 321/421\n",
    "\n",
    "***\n",
    "\n",
    "Adam A Miller  \n",
    "12 April 2023  \n",
    "version 0.1.1"
   ]
  },
  {
   "cell_type": "markdown",
   "id": "beb644f9",
   "metadata": {},
   "source": [
    "All problem sets for ASTRON 321/421 are due 1 week after they are assigned at 11:59 pm.\n",
    "\n",
    "Every student is responsible for submitting their own *individual* solutions, which should be in the form of an executable jupyter notebook submitted via Canvas.\n",
    "\n",
    "Over the course of several problem sets in this class you will analyze the spectra of a nearby star, and ultimately conclude that there is a planet orbiting that star. You will also measure the mass of that planet! The spectra were obtained with the [ELODIE spectrograph](https://en.wikipedia.org/wiki/ELODIE_spectrograph), which provides high resolution measurements of the spectrum (enabling us to precisely locate the positions of the absorption lines).\n",
    "\n",
    "Some problems will have different instructions for undergraduate and graduate students.  \n",
    "Undergraduates – if you complete the graduate level problems you will receive bonus credit.  \n",
    "Graduates – you may choose to only complete the undergraduate level problems, however, you can only receive a maximum score of 75/100 if you do this. "
   ]
  },
  {
   "cell_type": "markdown",
   "id": "20e0c221",
   "metadata": {},
   "source": [
    "**Note on problem set 2**\n",
    "\n",
    "My intent was that you would use your results from problem set 1 and continue to work on them. You are welcome to do so, but, I also realized that I cannot instantly grade your work to provide feedback on your solutions (in case they need to be adjusted). If you are uncertain about your solutions I can provide continuum normalized spectra - you must request this to get the spectra.  "
   ]
  },
  {
   "cell_type": "markdown",
   "id": "b6e80659",
   "metadata": {},
   "source": [
    "**Graduate student problems**\n",
    "\n",
    "The problems for graduate students are at the very end of the notebook. \n",
    "\n",
    "The problem for graduate students is the \"real deal\" - i.e., you are given data in an uncorrected form, and then you measure the RV using an absorption spectrum \"mask\" – this is precisely how such measurements are made with the HARPS spectrograph, which is a successor to ELODIE. The maximum score for graduate students working on the undergrad problem for this problem set is 82/100\n",
    "\n",
    "(i.e., only work on the graduate problem if you are really really curious how an RV mask works AND you have sufficient time – I do not think you will finish this problem on time if you are starting on Tuesday night)"
   ]
  },
  {
   "cell_type": "markdown",
   "id": "2fb75b43",
   "metadata": {},
   "source": [
    "## Radial Velocities\n",
    "\n",
    "One of the great benefits of obtaining spectroscopic observations is that it allows us to measure the velocity of the absorbing gas (often this is gas in a star's atmophere) relative to the line of sight. These measurements can have important physical consequences, such as allowing us to infer the mass of two stars orbiting in a binary (see lecture). \n",
    "\n",
    "The \"simple\" way to measure a [radial velocity](https://en.wikipedia.org/wiki/Radial_velocity) is to identify some emission/absorption line in a spectrum and compare its observed wavelength to the wavelength measured \"at rest\" in a lab on earth. With that measurement in hand, the [Doppler equation](https://en.wikipedia.org/wiki/Doppler_effect) dictates how to convert the change in wavelength to a velocity.\n",
    "\n",
    "Using a single line can be limited however, if, for example, the spectrum is low signal to noise or there are multiple processes contributing to the line profile. \n",
    "\n",
    "One can use \"all the information\" present in a spectrum to estimate the redshift/Doppler shift via a [cross correlation](https://en.wikipedia.org/wiki/Cross-correlation) with a template spectrum (see also the lecture notes). The (discrete) cross-correlation is the sum of the observed spectrum multiplied by the template. \n",
    "$$CC = \\sum f(m) g(m - n)$$\n",
    "\n",
    "where the sum is over all pixels $m$, $f$ is the spectrum, and $g$ is the shifted template (in practice we will use interpolation to place the doppler shifted template onto the same wavelength grid as the primary observations).\n",
    "\n",
    "The cross-correlation function (CCF) is the value of the cross-correlation at different velocity shifts for the template. The peak of the CCF corresponds to your estimate for the RV of the observation.\n"
   ]
  },
  {
   "cell_type": "markdown",
   "id": "b010f865",
   "metadata": {},
   "source": [
    "## Problem 1) Continuum Normalized spectra (undergraduates)\n",
    "\n",
    "If you haven't already, download the file `G2_RV_template.fits` from canvas, which is the continuum normalized spectroscopic template. \n",
    "\n",
    "Note – in order to correctly measure radial velocities in this problem set, one must:  \n",
    " 1. Interpolate the spectra to remove any NaN\n",
    " 2. Estimate and remove the continuum\n",
    " 3. Correct the spectra for the orbital motion of the Earth at the time of observation (the factor for making this correction is called `BERV` in the fits headers – \"Barycenter Earth RV\" – most telescopes calculate this and put it in the header for spectra, it is measured in $\\mathrm{km\\;s^{-1}}$)."
   ]
  },
  {
   "cell_type": "markdown",
   "id": "04043f5a",
   "metadata": {},
   "source": [
    "**Problem 1a**\n",
    "\n",
    "Plot the continuum normalized spectrum for the observations with `19940914_0022_s1d.fits` in its filename (again this could be your continuum spectrum, or the ones that I provide). \n",
    "\n",
    "Restrict the range on the x-axis to only show wavelengths $5880 \\,\\unicode[serif]{xC5} < \\lambda < 5900\\,\\unicode[serif]{xC5}$."
   ]
  },
  {
   "cell_type": "code",
   "execution_count": null,
   "id": "bb1b2de5",
   "metadata": {},
   "outputs": [],
   "source": [
    "# complete"
   ]
  },
  {
   "cell_type": "markdown",
   "id": "d345b646",
   "metadata": {},
   "source": [
    "**Problem 1b**\n",
    "\n",
    "Read in the data for the spectral template `G2_RV_template.fits`. The template has been created with an RV $= 0\\,\\mathrm{m\\;s}^{-1}$.\n",
    "\n",
    "Once again, plot the continuum normalized spectrum of [normed_]`19940914_0022_s1d.fits` in the range $5880 \\,\\unicode[serif]{xC5} < \\lambda < 5900\\,\\unicode[serif]{xC5}$. Show this as a black line.\n",
    "\n",
    "In *blue* overplot the spectrum of the template *blue shifted* by -100,000$\\,\\mathrm{m\\,s}^{-1}$.\n",
    "\n",
    "In *red* overplot the spectrum of the template *red shifted* by 50,000$\\,\\mathrm{m\\,s}^{-1}$."
   ]
  },
  {
   "cell_type": "code",
   "execution_count": null,
   "id": "72b5d195",
   "metadata": {},
   "outputs": [],
   "source": [
    "# complete"
   ]
  },
  {
   "cell_type": "markdown",
   "id": "7afe5163",
   "metadata": {},
   "source": [
    "## Problem 2) Cross Correlation (undergraduates)"
   ]
  },
  {
   "cell_type": "markdown",
   "id": "ca032c80",
   "metadata": {},
   "source": [
    "Before you can calculate a (discrete) cross correlation, the data must follow the same wavelength grid. \n",
    "\n",
    "**Problem 2a**\n",
    "\n",
    "Interpolate the template spectrum to the same wavelength grid as the observered ELODIE spectrum (i.e., the one with `19940914_0022_s1d.fits` in the name). \n",
    "\n",
    "*Hint* – you may find [`np.interp`](https://numpy.org/doc/stable/reference/generated/numpy.interp.html) helpful. "
   ]
  },
  {
   "cell_type": "code",
   "execution_count": null,
   "id": "cbbf5ce8",
   "metadata": {},
   "outputs": [],
   "source": [
    "# complete"
   ]
  },
  {
   "cell_type": "markdown",
   "id": "9718ce71",
   "metadata": {},
   "source": [
    "**Problem 2b**\n",
    "\n",
    "Plot the continuum normalized spectrum between $5880 \\,\\unicode[serif]{xC5} < \\lambda < 5900\\,\\unicode[serif]{xC5}$ and the *interpolated* template spectrum. \n",
    "\n",
    "Does the template look different than it did before? "
   ]
  },
  {
   "cell_type": "code",
   "execution_count": null,
   "id": "08c54242",
   "metadata": {},
   "outputs": [],
   "source": [
    "# complete"
   ]
  },
  {
   "cell_type": "markdown",
   "id": "6c92edee",
   "metadata": {},
   "source": [
    "*write your response here*"
   ]
  },
  {
   "cell_type": "markdown",
   "id": "75c1ba1a",
   "metadata": {},
   "source": [
    "**Problem 2c**\n",
    "\n",
    "Calculate the cross-correlation (XC) between the observations and the (interpolated) template. "
   ]
  },
  {
   "cell_type": "code",
   "execution_count": null,
   "id": "c6cb9060",
   "metadata": {},
   "outputs": [],
   "source": [
    "# complete\n",
    "\n",
    "print('The XC is {}'.format( # complete"
   ]
  },
  {
   "cell_type": "markdown",
   "id": "6db1ef0b",
   "metadata": {},
   "source": [
    "**Problem 2d**\n",
    "\n",
    "Blue shift the template by -27,000$\\mathrm{m\\,s}^{-1}$, and interpolate that onto the obseved spectrum wavelength grid. \n",
    "\n",
    "Calculate the XC between the observations and the (interpolated) template. \n",
    "\n",
    "*Hint* – if you do not trust your answer, plot each spectrum to see how the answer should differ from **2c**"
   ]
  },
  {
   "cell_type": "code",
   "execution_count": null,
   "id": "aa09c57c",
   "metadata": {},
   "outputs": [],
   "source": [
    "# complete"
   ]
  },
  {
   "cell_type": "markdown",
   "id": "723d0d3a",
   "metadata": {},
   "source": [
    "**Problem 2e**\n",
    "\n",
    "Calculate the cross-correlation function (CCF). \n",
    "\n",
    "The CCF is the the XC as a function of radial velocity shift for the template. To calculate the CCF you can use the procedure above, and test many different velocities. \n",
    "\n",
    "*Hint* – your plot in **1b** can guide you towards a reasonable range of velocities to test."
   ]
  },
  {
   "cell_type": "code",
   "execution_count": null,
   "id": "cf3e0dc0",
   "metadata": {},
   "outputs": [],
   "source": [
    "# complete"
   ]
  },
  {
   "cell_type": "markdown",
   "id": "57c63011",
   "metadata": {},
   "source": [
    "**Problem 2f**\n",
    "\n",
    "Plot the CCF (XC vs. RV). \n",
    "\n",
    "The measured RV for the observed spectrum is the peak of the CCF. \n",
    "\n",
    "*Note* – the peak of the CCF should be approximately Gaussian. If your plot does not look like this you may need to test more velocities when estimating the CCF."
   ]
  },
  {
   "cell_type": "code",
   "execution_count": null,
   "id": "da7940dc",
   "metadata": {},
   "outputs": [],
   "source": [
    "# complete"
   ]
  },
  {
   "cell_type": "markdown",
   "id": "aed9ed9c",
   "metadata": {},
   "source": [
    "**Problem 2g**\n",
    "\n",
    "Hey - silly! You forgot the uncertainties!?\n",
    "\n",
    "This can be measured by the uncertainty on the mean of a Gaussian fit to the CCF, but that is hard! (and we haven't discussed model fitting yet)\n",
    "\n",
    "We will use a shortcut. Section 4.1 of the [HARPS manual](https://www.eso.org/sci/facilities/lasilla/instruments/harps/doc/manual/HARPS-UserManual2.3.pdf) states that the uncertainty on RV scales inversely with the signal-to-noise ratio. \n",
    "\n",
    "$$\\sigma_\\mathrm{RV} \\approx \\frac{500}{\\mathrm{SNR}_{550\\,\\mathrm{nm}}} \\, \\mathrm{m\\,s}^{-1}$$\n",
    "\n",
    "(if you actually read that doc I've scaled the equation to the lower resolution ELODIE spectrograph)\n",
    "\n",
    "The SNR at 550 nm is included in the fits header of the observed spectrum in the `SN` keyword.\n",
    "\n",
    "What is the RV for the first observed spectrum? Include uncertainties in your estimate. "
   ]
  },
  {
   "cell_type": "code",
   "execution_count": null,
   "id": "62768ac9",
   "metadata": {},
   "outputs": [],
   "source": [
    "# complete\n",
    "\n",
    "print('The RV of this star at this time is {} +/- {}'.format( # complete"
   ]
  },
  {
   "cell_type": "markdown",
   "id": "af02f621",
   "metadata": {},
   "source": [
    "## Problem 3) RV as a function of time (undergraduates)\n",
    "\n",
    "The time of observation is recorded in the header of each fits file in the `MJD-OBS` keyword. "
   ]
  },
  {
   "cell_type": "markdown",
   "id": "0f79a68d",
   "metadata": {},
   "source": [
    "**Problem 3a**\n",
    "\n",
    "For every observed ELODIE spectrum, estimate the RV and its uncertainty. \n",
    "\n",
    "Store the time of observation, the RV, and its uncertainty in three different arrays."
   ]
  },
  {
   "cell_type": "code",
   "execution_count": null,
   "id": "93f86979",
   "metadata": {},
   "outputs": [],
   "source": [
    "# complete"
   ]
  },
  {
   "cell_type": "markdown",
   "id": "904d0c1a",
   "metadata": {},
   "source": [
    "**Problem 3b**\n",
    "\n",
    "Plot the RV as a function of time. \n",
    "\n",
    "*Hint* – it is unlikely that you see anything remarkable in this plot."
   ]
  },
  {
   "cell_type": "code",
   "execution_count": null,
   "id": "d1de7d35",
   "metadata": {},
   "outputs": [],
   "source": [
    "# complete"
   ]
  },
  {
   "cell_type": "markdown",
   "id": "f068a4a3",
   "metadata": {},
   "source": [
    "## Precise RV measurements (graduates)\n",
    "\n",
    "To start - read all the problems assigned to the undergraduates, you will need to follow a similar procedure. \n",
    "\n",
    "You can download continuum normalized spectra from [my solutions](https://nuwildcat-my.sharepoint.com/:u:/g/personal/aam3503_ads_northwestern_edu/EcRLxrxJVhlHm0zvwwTHxnoB67g9ZBY3VVAWQsn_RtNbBA?e=YFKA55). Once you unpack that tarball, you will also notice the file `G2_mask.csv` – which is the mask used to estimate the CCF.\n",
    "\n",
    "The spectra for the grad students have *only* been continuum normalized. `NaN` has not been removed, and the motion of the Earth relative to the solar system barycenter has not been corrected. \n",
    "\n",
    "The procedure to measure the CCF is largely the same, except that instead of a template we have a mask. The mask file consists of three columns. The first column defines the \"left\" or \"blue\" edge of a mask region, the second column defines the \"right\" or \"red\" edge of a mask region, and the third column defines the mask value. \n",
    "\n",
    "In order to calculate the XC (and eventually the CCF), we must \"interpolate\" the mask onto the wavelength grid of the observed spectrum. This interpolation is not a simple call to numpy (as it is in the undergrad problem). \n",
    "\n",
    "To determine the value of the mask in each pixel of the ELODIE spectrum, we must calculate the fractional coverage of the mask with the givel pixel, and then multiply that fraction by the mask value. \n",
    "\n",
    "I will demonstrate what this means with a few examples: \n",
    "\n",
    "1. The mask starts at 4358.66 Ang and ends at 4358.89 Ang and has a value of 0.7. The pixel starts at 4358.7 Ang and ends at 4358.75 Ang. >>> The pixel mask has a value of 0.7. \n",
    "\n",
    "2. The mask starts at 5422.12 Ang and ends at 5422.96 Ang and has a value of 0.3. The pixel starts at 5422.10 Ang and ends at 5422.15 Ang. >>> The pixel mask has a value of 0.3 * (5422.15 - 5422.12)/(5422.15 - 5422.10) = 0.18.\n",
    "\n",
    "3. One mask ends at 6452.3 and the next mask starts at 6452.9 Ang. The pixel starts at 6452.45 Ang and ends at 6452.50 Ang. >>> The pixel mask has a value of 0. \n"
   ]
  },
  {
   "cell_type": "markdown",
   "id": "5fe76ee7",
   "metadata": {},
   "source": [
    "## Problem 1) CCF (graduates)\n",
    "\n",
    "**Problem 1a**\n",
    "\n",
    "Using the supplied mask file, calculate and plot the CCF for the spectrum with `19940914_0022_s1d.fits` in its filename (again this could be your continuum spectrum, or the ones that I provide). "
   ]
  },
  {
   "cell_type": "code",
   "execution_count": null,
   "id": "70e30e3d",
   "metadata": {},
   "outputs": [],
   "source": [
    "# complete"
   ]
  },
  {
   "cell_type": "markdown",
   "id": "6b989233",
   "metadata": {},
   "source": [
    "**Problem 1b**\n",
    "\n",
    "Estimate the RV and its uncertainty. \n",
    "\n",
    "Note – you can use the method described in the undergrad problems to estimate the uncertainty. *Or* you can fit a Gaussian model to the CCF and use the uncertainty on the mean of the Gaussian as the uncertainty of the RV. This does add more work, and if you have not seen model fitting in python before then its best to just use the method described above."
   ]
  },
  {
   "cell_type": "code",
   "execution_count": null,
   "id": "f8e34634",
   "metadata": {},
   "outputs": [],
   "source": [
    "# complete\n",
    "\n",
    "print('The RV of this star at this time is {} +/- {}'.format( # complete"
   ]
  },
  {
   "cell_type": "markdown",
   "id": "ca080594",
   "metadata": {},
   "source": [
    "## Problem 2) RV as a function of time (graduates)"
   ]
  },
  {
   "cell_type": "markdown",
   "id": "57510d57",
   "metadata": {},
   "source": [
    "**Problem 2a**\n",
    "\n",
    "Calculate the RV of the observed star as a function of time. Plot the results (*do not forget about the uncertainties*)."
   ]
  },
  {
   "cell_type": "code",
   "execution_count": null,
   "id": "6fede37f",
   "metadata": {},
   "outputs": [],
   "source": []
  }
 ],
 "metadata": {
  "kernelspec": {
   "display_name": "Python 3 (ipykernel)",
   "language": "python",
   "name": "python3"
  },
  "language_info": {
   "codemirror_mode": {
    "name": "ipython",
    "version": 3
   },
   "file_extension": ".py",
   "mimetype": "text/x-python",
   "name": "python",
   "nbconvert_exporter": "python",
   "pygments_lexer": "ipython3",
   "version": "3.8.13"
  }
 },
 "nbformat": 4,
 "nbformat_minor": 5
}
